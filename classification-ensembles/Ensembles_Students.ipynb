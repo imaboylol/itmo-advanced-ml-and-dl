{
  "cells": [
    {
      "cell_type": "markdown",
      "metadata": {
        "id": "view-in-github",
        "colab_type": "text"
      },
      "source": [
        "<a href=\"https://colab.research.google.com/github/imaboylol/itmo-advanced-ml-and-dl/blob/main/classification-ensembles/Ensembles_Students.ipynb\" target=\"_parent\"><img src=\"https://colab.research.google.com/assets/colab-badge.svg\" alt=\"Open In Colab\"/></a>"
      ]
    },
    {
      "cell_type": "markdown",
      "source": [
        "---\n",
        "\n",
        "# Ансамбли моделей"
      ],
      "metadata": {
        "collapsed": false,
        "id": "FkbP5g9IOwKf"
      }
    },
    {
      "cell_type": "markdown",
      "source": [
        "В этой работе мы рассмотрим применение некоторых классических и хорошо себя показавших алгоритмов-ансамблей. Демонстрировать работу этих алгоритмов будем на данных о потреблении электричества."
      ],
      "metadata": {
        "collapsed": false,
        "id": "7cfqqTD-OwKg"
      }
    },
    {
      "cell_type": "markdown",
      "source": [
        "# Описание набора данных"
      ],
      "metadata": {
        "id": "SnV_mUTS1yY9"
      }
    },
    {
      "cell_type": "markdown",
      "source": [
        "**Author**: M. Harries, J. Gama, A. Bifet  \n",
        "**Source**: [Joao Gama](http://www.inescporto.pt/~jgama/ales/ales_5.html) - 2009  \n",
        "**Please cite**: None  \n",
        "\n",
        "**Electricity** is a widely used dataset described by M. Harries and analyzed by J. Gama (see papers below). This data was collected from the Australian New South Wales Electricity Market. In this market, prices are not fixed and are affected by demand and supply of the market. They are set every five minutes. Electricity transfers to/from the neighboring state of Victoria were done to alleviate fluctuations.\n",
        "\n",
        "The dataset (originally named ELEC2) contains 45,312 instances dated from 7 May 1996 to 5 December 1998. Each example of the dataset refers to a period of 30 minutes, i.e. there are 48 instances for each time period of one day. Each example on the dataset has 5 fields, the day of week, the time stamp, the New South Wales electricity demand, the Victoria electricity demand, the scheduled electricity transfer between states and the class label. The class label identifies the change of the price (UP or DOWN) in New South Wales relative to a moving average of the last 24 hours (and removes the impact of longer term price trends).\n",
        "\n",
        "The data was normalized by A. Bifet.\n",
        "\n",
        "### Attribute information  \n",
        "* Date: date between 7 May 1996 to 5 December 1998. Here normalized between 0 and 1\n",
        "* Day: day of the week (1-7)\n",
        "* Period: time of the measurement (1-48) in half hour intervals over 24 hours. Here normalized between 0 and 1\n",
        "* NSWprice: New South Wales electricity price, normalized between 0 and 1\n",
        "* NSWdemand: New South Wales electricity demand, normalized between 0 and 1\n",
        "* VICprice: Victoria electricity price, normalized between 0 and 1\n",
        "* VICdemand: Victoria electricity demand, normalized between 0 and 1\n",
        "* transfer: scheduled electricity transfer between both states, normalized between 0 and 1\n",
        "\n",
        "### Relevant papers  \n",
        "M. Harries. Splice-2 comparative evaluation: Electricity pricing. Technical report, The University of South Wales, 1999.  \n",
        "J. Gama, P. Medas, G. Castillo, and P. Rodrigues. Learning with drift detection. In SBIA Brazilian Symposium on Artificial Intelligence, pages 286–295, 2004."
      ],
      "metadata": {
        "id": "EnfByH4SuGGM"
      }
    },
    {
      "cell_type": "markdown",
      "source": [
        "# Exploratory Data Analysis"
      ],
      "metadata": {
        "collapsed": false,
        "id": "iF1Dq_b5OwKh"
      }
    },
    {
      "cell_type": "markdown",
      "source": [
        "Считайте набор данных в датафрейм"
      ],
      "metadata": {
        "id": "JiuUwJN52OFV"
      }
    },
    {
      "cell_type": "code",
      "source": [
        "# < ENTER YOUR CODE HERE >\n",
        "import pandas as pd\n",
        "df = pd.read_csv('electricity_train.csv')"
      ],
      "metadata": {
        "id": "ZDPVa8Dut_qJ"
      },
      "execution_count": 1,
      "outputs": []
    },
    {
      "cell_type": "markdown",
      "source": [
        "При помощи метода <code>.describe()</code> изучите набор данных «с высоты птичьего полета»."
      ],
      "metadata": {
        "id": "7gPhTkzt2vey"
      }
    },
    {
      "cell_type": "code",
      "source": [
        "# < ENTER YOUR CODE HERE >\n",
        "df.describe()"
      ],
      "metadata": {
        "id": "MUO2PzGE2vC3",
        "colab": {
          "base_uri": "https://localhost:8080/",
          "height": 300
        },
        "outputId": "8b8da2f1-7a0a-4919-c338-cb01fa30041e"
      },
      "execution_count": 2,
      "outputs": [
        {
          "output_type": "execute_result",
          "data": {
            "text/plain": [
              "               date           day        period      nswprice     nswdemand  \\\n",
              "count  36249.000000  36249.000000  36249.000000  36249.000000  36249.000000   \n",
              "mean       0.498293      4.006566      0.500560      0.057828      0.425939   \n",
              "std        0.339907      1.993551      0.294998      0.039052      0.163390   \n",
              "min        0.000000      1.000000      0.000000      0.000000      0.000000   \n",
              "25%        0.031945      2.000000      0.255319      0.035187      0.309729   \n",
              "50%        0.456263      4.000000      0.510638      0.048787      0.444213   \n",
              "75%        0.880492      6.000000      0.765957      0.074457      0.536745   \n",
              "max        1.000000      7.000000      1.000000      1.000000      0.980809   \n",
              "\n",
              "           vicprice     vicdemand      transfer         class  \n",
              "count  36249.000000  36249.000000  36249.000000  36249.000000  \n",
              "mean       0.003455      0.423024      0.500243      0.424536  \n",
              "std        0.010175      0.120600      0.153098      0.494279  \n",
              "min        0.000000      0.000000      0.000000      0.000000  \n",
              "25%        0.002283      0.373382      0.414912      0.000000  \n",
              "50%        0.003467      0.422915      0.414912      0.000000  \n",
              "75%        0.003467      0.468669      0.605263      1.000000  \n",
              "max        1.000000      1.000000      0.959211      1.000000  "
            ],
            "text/html": [
              "\n",
              "  <div id=\"df-88fcf07b-7686-4cbb-84cb-5c387902127e\" class=\"colab-df-container\">\n",
              "    <div>\n",
              "<style scoped>\n",
              "    .dataframe tbody tr th:only-of-type {\n",
              "        vertical-align: middle;\n",
              "    }\n",
              "\n",
              "    .dataframe tbody tr th {\n",
              "        vertical-align: top;\n",
              "    }\n",
              "\n",
              "    .dataframe thead th {\n",
              "        text-align: right;\n",
              "    }\n",
              "</style>\n",
              "<table border=\"1\" class=\"dataframe\">\n",
              "  <thead>\n",
              "    <tr style=\"text-align: right;\">\n",
              "      <th></th>\n",
              "      <th>date</th>\n",
              "      <th>day</th>\n",
              "      <th>period</th>\n",
              "      <th>nswprice</th>\n",
              "      <th>nswdemand</th>\n",
              "      <th>vicprice</th>\n",
              "      <th>vicdemand</th>\n",
              "      <th>transfer</th>\n",
              "      <th>class</th>\n",
              "    </tr>\n",
              "  </thead>\n",
              "  <tbody>\n",
              "    <tr>\n",
              "      <th>count</th>\n",
              "      <td>36249.000000</td>\n",
              "      <td>36249.000000</td>\n",
              "      <td>36249.000000</td>\n",
              "      <td>36249.000000</td>\n",
              "      <td>36249.000000</td>\n",
              "      <td>36249.000000</td>\n",
              "      <td>36249.000000</td>\n",
              "      <td>36249.000000</td>\n",
              "      <td>36249.000000</td>\n",
              "    </tr>\n",
              "    <tr>\n",
              "      <th>mean</th>\n",
              "      <td>0.498293</td>\n",
              "      <td>4.006566</td>\n",
              "      <td>0.500560</td>\n",
              "      <td>0.057828</td>\n",
              "      <td>0.425939</td>\n",
              "      <td>0.003455</td>\n",
              "      <td>0.423024</td>\n",
              "      <td>0.500243</td>\n",
              "      <td>0.424536</td>\n",
              "    </tr>\n",
              "    <tr>\n",
              "      <th>std</th>\n",
              "      <td>0.339907</td>\n",
              "      <td>1.993551</td>\n",
              "      <td>0.294998</td>\n",
              "      <td>0.039052</td>\n",
              "      <td>0.163390</td>\n",
              "      <td>0.010175</td>\n",
              "      <td>0.120600</td>\n",
              "      <td>0.153098</td>\n",
              "      <td>0.494279</td>\n",
              "    </tr>\n",
              "    <tr>\n",
              "      <th>min</th>\n",
              "      <td>0.000000</td>\n",
              "      <td>1.000000</td>\n",
              "      <td>0.000000</td>\n",
              "      <td>0.000000</td>\n",
              "      <td>0.000000</td>\n",
              "      <td>0.000000</td>\n",
              "      <td>0.000000</td>\n",
              "      <td>0.000000</td>\n",
              "      <td>0.000000</td>\n",
              "    </tr>\n",
              "    <tr>\n",
              "      <th>25%</th>\n",
              "      <td>0.031945</td>\n",
              "      <td>2.000000</td>\n",
              "      <td>0.255319</td>\n",
              "      <td>0.035187</td>\n",
              "      <td>0.309729</td>\n",
              "      <td>0.002283</td>\n",
              "      <td>0.373382</td>\n",
              "      <td>0.414912</td>\n",
              "      <td>0.000000</td>\n",
              "    </tr>\n",
              "    <tr>\n",
              "      <th>50%</th>\n",
              "      <td>0.456263</td>\n",
              "      <td>4.000000</td>\n",
              "      <td>0.510638</td>\n",
              "      <td>0.048787</td>\n",
              "      <td>0.444213</td>\n",
              "      <td>0.003467</td>\n",
              "      <td>0.422915</td>\n",
              "      <td>0.414912</td>\n",
              "      <td>0.000000</td>\n",
              "    </tr>\n",
              "    <tr>\n",
              "      <th>75%</th>\n",
              "      <td>0.880492</td>\n",
              "      <td>6.000000</td>\n",
              "      <td>0.765957</td>\n",
              "      <td>0.074457</td>\n",
              "      <td>0.536745</td>\n",
              "      <td>0.003467</td>\n",
              "      <td>0.468669</td>\n",
              "      <td>0.605263</td>\n",
              "      <td>1.000000</td>\n",
              "    </tr>\n",
              "    <tr>\n",
              "      <th>max</th>\n",
              "      <td>1.000000</td>\n",
              "      <td>7.000000</td>\n",
              "      <td>1.000000</td>\n",
              "      <td>1.000000</td>\n",
              "      <td>0.980809</td>\n",
              "      <td>1.000000</td>\n",
              "      <td>1.000000</td>\n",
              "      <td>0.959211</td>\n",
              "      <td>1.000000</td>\n",
              "    </tr>\n",
              "  </tbody>\n",
              "</table>\n",
              "</div>\n",
              "    <div class=\"colab-df-buttons\">\n",
              "\n",
              "  <div class=\"colab-df-container\">\n",
              "    <button class=\"colab-df-convert\" onclick=\"convertToInteractive('df-88fcf07b-7686-4cbb-84cb-5c387902127e')\"\n",
              "            title=\"Convert this dataframe to an interactive table.\"\n",
              "            style=\"display:none;\">\n",
              "\n",
              "  <svg xmlns=\"http://www.w3.org/2000/svg\" height=\"24px\" viewBox=\"0 -960 960 960\">\n",
              "    <path d=\"M120-120v-720h720v720H120Zm60-500h600v-160H180v160Zm220 220h160v-160H400v160Zm0 220h160v-160H400v160ZM180-400h160v-160H180v160Zm440 0h160v-160H620v160ZM180-180h160v-160H180v160Zm440 0h160v-160H620v160Z\"/>\n",
              "  </svg>\n",
              "    </button>\n",
              "\n",
              "  <style>\n",
              "    .colab-df-container {\n",
              "      display:flex;\n",
              "      gap: 12px;\n",
              "    }\n",
              "\n",
              "    .colab-df-convert {\n",
              "      background-color: #E8F0FE;\n",
              "      border: none;\n",
              "      border-radius: 50%;\n",
              "      cursor: pointer;\n",
              "      display: none;\n",
              "      fill: #1967D2;\n",
              "      height: 32px;\n",
              "      padding: 0 0 0 0;\n",
              "      width: 32px;\n",
              "    }\n",
              "\n",
              "    .colab-df-convert:hover {\n",
              "      background-color: #E2EBFA;\n",
              "      box-shadow: 0px 1px 2px rgba(60, 64, 67, 0.3), 0px 1px 3px 1px rgba(60, 64, 67, 0.15);\n",
              "      fill: #174EA6;\n",
              "    }\n",
              "\n",
              "    .colab-df-buttons div {\n",
              "      margin-bottom: 4px;\n",
              "    }\n",
              "\n",
              "    [theme=dark] .colab-df-convert {\n",
              "      background-color: #3B4455;\n",
              "      fill: #D2E3FC;\n",
              "    }\n",
              "\n",
              "    [theme=dark] .colab-df-convert:hover {\n",
              "      background-color: #434B5C;\n",
              "      box-shadow: 0px 1px 3px 1px rgba(0, 0, 0, 0.15);\n",
              "      filter: drop-shadow(0px 1px 2px rgba(0, 0, 0, 0.3));\n",
              "      fill: #FFFFFF;\n",
              "    }\n",
              "  </style>\n",
              "\n",
              "    <script>\n",
              "      const buttonEl =\n",
              "        document.querySelector('#df-88fcf07b-7686-4cbb-84cb-5c387902127e button.colab-df-convert');\n",
              "      buttonEl.style.display =\n",
              "        google.colab.kernel.accessAllowed ? 'block' : 'none';\n",
              "\n",
              "      async function convertToInteractive(key) {\n",
              "        const element = document.querySelector('#df-88fcf07b-7686-4cbb-84cb-5c387902127e');\n",
              "        const dataTable =\n",
              "          await google.colab.kernel.invokeFunction('convertToInteractive',\n",
              "                                                    [key], {});\n",
              "        if (!dataTable) return;\n",
              "\n",
              "        const docLinkHtml = 'Like what you see? Visit the ' +\n",
              "          '<a target=\"_blank\" href=https://colab.research.google.com/notebooks/data_table.ipynb>data table notebook</a>'\n",
              "          + ' to learn more about interactive tables.';\n",
              "        element.innerHTML = '';\n",
              "        dataTable['output_type'] = 'display_data';\n",
              "        await google.colab.output.renderOutput(dataTable, element);\n",
              "        const docLink = document.createElement('div');\n",
              "        docLink.innerHTML = docLinkHtml;\n",
              "        element.appendChild(docLink);\n",
              "      }\n",
              "    </script>\n",
              "  </div>\n",
              "\n",
              "\n",
              "<div id=\"df-a6d9ef4d-cd92-4283-9d62-57f0aa627385\">\n",
              "  <button class=\"colab-df-quickchart\" onclick=\"quickchart('df-a6d9ef4d-cd92-4283-9d62-57f0aa627385')\"\n",
              "            title=\"Suggest charts\"\n",
              "            style=\"display:none;\">\n",
              "\n",
              "<svg xmlns=\"http://www.w3.org/2000/svg\" height=\"24px\"viewBox=\"0 0 24 24\"\n",
              "     width=\"24px\">\n",
              "    <g>\n",
              "        <path d=\"M19 3H5c-1.1 0-2 .9-2 2v14c0 1.1.9 2 2 2h14c1.1 0 2-.9 2-2V5c0-1.1-.9-2-2-2zM9 17H7v-7h2v7zm4 0h-2V7h2v10zm4 0h-2v-4h2v4z\"/>\n",
              "    </g>\n",
              "</svg>\n",
              "  </button>\n",
              "\n",
              "<style>\n",
              "  .colab-df-quickchart {\n",
              "      --bg-color: #E8F0FE;\n",
              "      --fill-color: #1967D2;\n",
              "      --hover-bg-color: #E2EBFA;\n",
              "      --hover-fill-color: #174EA6;\n",
              "      --disabled-fill-color: #AAA;\n",
              "      --disabled-bg-color: #DDD;\n",
              "  }\n",
              "\n",
              "  [theme=dark] .colab-df-quickchart {\n",
              "      --bg-color: #3B4455;\n",
              "      --fill-color: #D2E3FC;\n",
              "      --hover-bg-color: #434B5C;\n",
              "      --hover-fill-color: #FFFFFF;\n",
              "      --disabled-bg-color: #3B4455;\n",
              "      --disabled-fill-color: #666;\n",
              "  }\n",
              "\n",
              "  .colab-df-quickchart {\n",
              "    background-color: var(--bg-color);\n",
              "    border: none;\n",
              "    border-radius: 50%;\n",
              "    cursor: pointer;\n",
              "    display: none;\n",
              "    fill: var(--fill-color);\n",
              "    height: 32px;\n",
              "    padding: 0;\n",
              "    width: 32px;\n",
              "  }\n",
              "\n",
              "  .colab-df-quickchart:hover {\n",
              "    background-color: var(--hover-bg-color);\n",
              "    box-shadow: 0 1px 2px rgba(60, 64, 67, 0.3), 0 1px 3px 1px rgba(60, 64, 67, 0.15);\n",
              "    fill: var(--button-hover-fill-color);\n",
              "  }\n",
              "\n",
              "  .colab-df-quickchart-complete:disabled,\n",
              "  .colab-df-quickchart-complete:disabled:hover {\n",
              "    background-color: var(--disabled-bg-color);\n",
              "    fill: var(--disabled-fill-color);\n",
              "    box-shadow: none;\n",
              "  }\n",
              "\n",
              "  .colab-df-spinner {\n",
              "    border: 2px solid var(--fill-color);\n",
              "    border-color: transparent;\n",
              "    border-bottom-color: var(--fill-color);\n",
              "    animation:\n",
              "      spin 1s steps(1) infinite;\n",
              "  }\n",
              "\n",
              "  @keyframes spin {\n",
              "    0% {\n",
              "      border-color: transparent;\n",
              "      border-bottom-color: var(--fill-color);\n",
              "      border-left-color: var(--fill-color);\n",
              "    }\n",
              "    20% {\n",
              "      border-color: transparent;\n",
              "      border-left-color: var(--fill-color);\n",
              "      border-top-color: var(--fill-color);\n",
              "    }\n",
              "    30% {\n",
              "      border-color: transparent;\n",
              "      border-left-color: var(--fill-color);\n",
              "      border-top-color: var(--fill-color);\n",
              "      border-right-color: var(--fill-color);\n",
              "    }\n",
              "    40% {\n",
              "      border-color: transparent;\n",
              "      border-right-color: var(--fill-color);\n",
              "      border-top-color: var(--fill-color);\n",
              "    }\n",
              "    60% {\n",
              "      border-color: transparent;\n",
              "      border-right-color: var(--fill-color);\n",
              "    }\n",
              "    80% {\n",
              "      border-color: transparent;\n",
              "      border-right-color: var(--fill-color);\n",
              "      border-bottom-color: var(--fill-color);\n",
              "    }\n",
              "    90% {\n",
              "      border-color: transparent;\n",
              "      border-bottom-color: var(--fill-color);\n",
              "    }\n",
              "  }\n",
              "</style>\n",
              "\n",
              "  <script>\n",
              "    async function quickchart(key) {\n",
              "      const quickchartButtonEl =\n",
              "        document.querySelector('#' + key + ' button');\n",
              "      quickchartButtonEl.disabled = true;  // To prevent multiple clicks.\n",
              "      quickchartButtonEl.classList.add('colab-df-spinner');\n",
              "      try {\n",
              "        const charts = await google.colab.kernel.invokeFunction(\n",
              "            'suggestCharts', [key], {});\n",
              "      } catch (error) {\n",
              "        console.error('Error during call to suggestCharts:', error);\n",
              "      }\n",
              "      quickchartButtonEl.classList.remove('colab-df-spinner');\n",
              "      quickchartButtonEl.classList.add('colab-df-quickchart-complete');\n",
              "    }\n",
              "    (() => {\n",
              "      let quickchartButtonEl =\n",
              "        document.querySelector('#df-a6d9ef4d-cd92-4283-9d62-57f0aa627385 button');\n",
              "      quickchartButtonEl.style.display =\n",
              "        google.colab.kernel.accessAllowed ? 'block' : 'none';\n",
              "    })();\n",
              "  </script>\n",
              "</div>\n",
              "    </div>\n",
              "  </div>\n"
            ],
            "application/vnd.google.colaboratory.intrinsic+json": {
              "type": "dataframe",
              "summary": "{\n  \"name\": \"df\",\n  \"rows\": 8,\n  \"fields\": [\n    {\n      \"column\": \"date\",\n      \"properties\": {\n        \"dtype\": \"number\",\n        \"std\": 12815.794887561507,\n        \"min\": 0.0,\n        \"max\": 36249.0,\n        \"num_unique_values\": 8,\n        \"samples\": [\n          0.4982934558470579,\n          0.456263,\n          36249.0\n        ],\n        \"semantic_type\": \"\",\n        \"description\": \"\"\n      }\n    },\n    {\n      \"column\": \"day\",\n      \"properties\": {\n        \"dtype\": \"number\",\n        \"std\": 12814.643815598274,\n        \"min\": 1.0,\n        \"max\": 36249.0,\n        \"num_unique_values\": 8,\n        \"samples\": [\n          4.006565698364093,\n          4.0,\n          36249.0\n        ],\n        \"semantic_type\": \"\",\n        \"description\": \"\"\n      }\n    },\n    {\n      \"column\": \"period\",\n      \"properties\": {\n        \"dtype\": \"number\",\n        \"std\": 12815.788796606475,\n        \"min\": 0.0,\n        \"max\": 36249.0,\n        \"num_unique_values\": 8,\n        \"samples\": [\n          0.5005602500758641,\n          0.510638,\n          36249.0\n        ],\n        \"semantic_type\": \"\",\n        \"description\": \"\"\n      }\n    },\n    {\n      \"column\": \"nswprice\",\n      \"properties\": {\n        \"dtype\": \"number\",\n        \"std\": 12815.893457247254,\n        \"min\": 0.0,\n        \"max\": 36249.0,\n        \"num_unique_values\": 8,\n        \"samples\": [\n          0.05782763196226103,\n          0.048787,\n          36249.0\n        ],\n        \"semantic_type\": \"\",\n        \"description\": \"\"\n      }\n    },\n    {\n      \"column\": \"nswdemand\",\n      \"properties\": {\n        \"dtype\": \"number\",\n        \"std\": 12815.812365404016,\n        \"min\": 0.0,\n        \"max\": 36249.0,\n        \"num_unique_values\": 8,\n        \"samples\": [\n          0.4259388552787663,\n          0.444213,\n          36249.0\n        ],\n        \"semantic_type\": \"\",\n        \"description\": \"\"\n      }\n    },\n    {\n      \"column\": \"vicprice\",\n      \"properties\": {\n        \"dtype\": \"number\",\n        \"std\": 12815.905198774419,\n        \"min\": 0.0,\n        \"max\": 36249.0,\n        \"num_unique_values\": 7,\n        \"samples\": [\n          36249.0,\n          0.0034550981820188147,\n          0.003467\n        ],\n        \"semantic_type\": \"\",\n        \"description\": \"\"\n      }\n    },\n    {\n      \"column\": \"vicdemand\",\n      \"properties\": {\n        \"dtype\": \"number\",\n        \"std\": 12815.815003760616,\n        \"min\": 0.0,\n        \"max\": 36249.0,\n        \"num_unique_values\": 8,\n        \"samples\": [\n          0.42302439314187973,\n          0.422915,\n          36249.0\n        ],\n        \"semantic_type\": \"\",\n        \"description\": \"\"\n      }\n    },\n    {\n      \"column\": \"transfer\",\n      \"properties\": {\n        \"dtype\": \"number\",\n        \"std\": 12815.802929816959,\n        \"min\": 0.0,\n        \"max\": 36249.0,\n        \"num_unique_values\": 7,\n        \"samples\": [\n          36249.0,\n          0.5002427746144721,\n          0.605263\n        ],\n        \"semantic_type\": \"\",\n        \"description\": \"\"\n      }\n    },\n    {\n      \"column\": \"class\",\n      \"properties\": {\n        \"dtype\": \"number\",\n        \"std\": 12815.809439924265,\n        \"min\": 0.0,\n        \"max\": 36249.0,\n        \"num_unique_values\": 5,\n        \"samples\": [\n          0.4245358492648073,\n          1.0,\n          0.49427917392737736\n        ],\n        \"semantic_type\": \"\",\n        \"description\": \"\"\n      }\n    }\n  ]\n}"
            }
          },
          "metadata": {},
          "execution_count": 2
        }
      ]
    },
    {
      "cell_type": "code",
      "source": [
        "df.info()"
      ],
      "metadata": {
        "colab": {
          "base_uri": "https://localhost:8080/"
        },
        "id": "3JqDAePovgq5",
        "outputId": "e24b2c87-f619-40a1-bd67-5330aec861e7"
      },
      "execution_count": 5,
      "outputs": [
        {
          "output_type": "stream",
          "name": "stdout",
          "text": [
            "<class 'pandas.core.frame.DataFrame'>\n",
            "RangeIndex: 36249 entries, 0 to 36248\n",
            "Data columns (total 9 columns):\n",
            " #   Column     Non-Null Count  Dtype  \n",
            "---  ------     --------------  -----  \n",
            " 0   date       36249 non-null  float64\n",
            " 1   day        36249 non-null  int64  \n",
            " 2   period     36249 non-null  float64\n",
            " 3   nswprice   36249 non-null  float64\n",
            " 4   nswdemand  36249 non-null  float64\n",
            " 5   vicprice   36249 non-null  float64\n",
            " 6   vicdemand  36249 non-null  float64\n",
            " 7   transfer   36249 non-null  float64\n",
            " 8   class      36249 non-null  int64  \n",
            "dtypes: float64(7), int64(2)\n",
            "memory usage: 2.5 MB\n"
          ]
        }
      ]
    },
    {
      "cell_type": "markdown",
      "source": [
        "Убедитесь в отсутствии пропусков. Имеет смысл проверить сбалансированность классов. Введите долю элементов класса $1$."
      ],
      "metadata": {
        "id": "e8Dbk1K-3iho"
      }
    },
    {
      "cell_type": "code",
      "source": [
        "# < ENTER YOUR CODE HERE >\n",
        "df['class'].value_counts(1)"
      ],
      "metadata": {
        "id": "dyCm4K_F3xP0",
        "colab": {
          "base_uri": "https://localhost:8080/",
          "height": 178
        },
        "outputId": "fc1cd24c-b177-4a4d-d12b-43f03434793c"
      },
      "execution_count": 12,
      "outputs": [
        {
          "output_type": "execute_result",
          "data": {
            "text/plain": [
              "class\n",
              "0    0.575464\n",
              "1    0.424536\n",
              "Name: proportion, dtype: float64"
            ],
            "text/html": [
              "<div>\n",
              "<style scoped>\n",
              "    .dataframe tbody tr th:only-of-type {\n",
              "        vertical-align: middle;\n",
              "    }\n",
              "\n",
              "    .dataframe tbody tr th {\n",
              "        vertical-align: top;\n",
              "    }\n",
              "\n",
              "    .dataframe thead th {\n",
              "        text-align: right;\n",
              "    }\n",
              "</style>\n",
              "<table border=\"1\" class=\"dataframe\">\n",
              "  <thead>\n",
              "    <tr style=\"text-align: right;\">\n",
              "      <th></th>\n",
              "      <th>proportion</th>\n",
              "    </tr>\n",
              "    <tr>\n",
              "      <th>class</th>\n",
              "      <th></th>\n",
              "    </tr>\n",
              "  </thead>\n",
              "  <tbody>\n",
              "    <tr>\n",
              "      <th>0</th>\n",
              "      <td>0.575464</td>\n",
              "    </tr>\n",
              "    <tr>\n",
              "      <th>1</th>\n",
              "      <td>0.424536</td>\n",
              "    </tr>\n",
              "  </tbody>\n",
              "</table>\n",
              "</div><br><label><b>dtype:</b> float64</label>"
            ]
          },
          "metadata": {},
          "execution_count": 12
        }
      ]
    },
    {
      "cell_type": "markdown",
      "source": [
        "Постройте матрицу корреляций. Определите пару наиболее коррелированных признаков."
      ],
      "metadata": {
        "id": "9yAaZWOE4Ufo"
      }
    },
    {
      "cell_type": "code",
      "source": [
        "# < ENTER YOUR CODE HERE >\n",
        "import matplotlib.pyplot as plt\n",
        "import seaborn as sns\n",
        "\n",
        "corr_matrix = df.corr()\n",
        "\n",
        "# Построение тепловой карты корреляций\n",
        "plt.figure(figsize=(10, 8))\n",
        "sns.heatmap(corr_matrix, annot=True, cmap=\"coolwarm\", fmt=\".2f\", linewidths=0.5)\n",
        "plt.title(\"correlation matrix\")\n",
        "plt.show()"
      ],
      "metadata": {
        "id": "TflVyF8U4a4d",
        "colab": {
          "base_uri": "https://localhost:8080/",
          "height": 769
        },
        "outputId": "4a1ec757-bec7-49ab-8b7e-f3d4cf332ba3"
      },
      "execution_count": 18,
      "outputs": [
        {
          "output_type": "display_data",
          "data": {
            "text/plain": [
              "<Figure size 1000x800 with 2 Axes>"
            ],
            "image/png": "[encoded data removed]"
          },
          "metadata": {}
        }
      ]
    },
    {
      "cell_type": "markdown",
      "source": [
        "Постройте гистограммы распределений признаков."
      ],
      "metadata": {
        "id": "p86olWnORJrC"
      }
    },
    {
      "cell_type": "code",
      "source": [
        "# < ENTER YOUR CODE HERE >\n",
        "features = df.drop(columns=['class'])\n",
        "\n",
        "features.hist(bins=20, figsize=(15, 10), grid=False)\n",
        "plt.tight_layout()\n",
        "plt.show()"
      ],
      "metadata": {
        "id": "LIZiSMpV6Dmf",
        "colab": {
          "base_uri": "https://localhost:8080/",
          "height": 729
        },
        "outputId": "06f44074-9360-4033-e90e-36bff17986bc"
      },
      "execution_count": 20,
      "outputs": [
        {
          "output_type": "display_data",
          "data": {
            "text/plain": [
              "<Figure size 1500x1000 with 9 Axes>"
            ],
            "image/png": "[encoded data removed]"
          },
          "metadata": {}
        }
      ]
    },
    {
      "cell_type": "markdown",
      "source": [
        "Из полученных иллюстраций видно, что в данных, скорее всего, как и ожидалось, есть некоторая периодичность. Более того, похоже, за нас уже поработали над заполнением пропусков или обработкой выбросов"
      ],
      "metadata": {
        "id": "48Oaj77P6C3a"
      }
    },
    {
      "cell_type": "markdown",
      "source": [
        "При помощи <code>train_test_split</code> разобейте полученный набор данных на тренеровочную и тестовую выборки с параметрами, указанными в вашем варианте."
      ],
      "metadata": {
        "id": "r9lr36io3K2H"
      }
    },
    {
      "cell_type": "code",
      "execution_count": 21,
      "outputs": [],
      "source": [
        "# < ENTER YOUR CODE HERE >\n",
        "from sklearn.model_selection import train_test_split\n",
        "X = df.drop(columns=['class'])\n",
        "y = df['class']\n",
        "\n",
        "X_train, X_test, y_train, y_test = train_test_split(X, y, test_size=0.2, random_state=11)"
      ],
      "metadata": {
        "id": "G50KT0CVOwKk"
      }
    },
    {
      "cell_type": "markdown",
      "source": [
        "# Random Forests Classifier"
      ],
      "metadata": {
        "collapsed": false,
        "id": "tEh9OYuWOwKp"
      }
    },
    {
      "cell_type": "markdown",
      "source": [
        "Обучите модель <code>sklearn.ensemble.RandomForestClassifier</code> на тренировочных данных с параметрами, указанными в вашем индивидуальном задании."
      ],
      "metadata": {
        "id": "L_QEkgd9AFO4"
      }
    },
    {
      "cell_type": "code",
      "execution_count": 28,
      "outputs": [],
      "source": [
        "# < ENTER YOUR CODE HERE >\n",
        "from sklearn.ensemble import RandomForestClassifier\n",
        "\n",
        "randforest = RandomForestClassifier(random_state=11)\n",
        "randforest.fit(X_train, y_train)\n",
        "\n",
        "\n",
        "y_train_pred = randforest.predict(X_train)"
      ],
      "metadata": {
        "id": "Y4WCECt8OwKq"
      }
    },
    {
      "cell_type": "markdown",
      "source": [
        "Постройте <code>classification_report</code> полученной модели на **тренировочных данных**. Введите значение точности модели на **тренировочных данных**."
      ],
      "metadata": {
        "id": "1Ci-_Ba4AlE9"
      }
    },
    {
      "cell_type": "code",
      "source": [
        "# < ENTER YOUR CODE HERE >\n",
        "from sklearn.metrics import classification_report\n",
        "\n",
        "report = classification_report(y_train, y_train_pred, digits=3)\n",
        "print(report)"
      ],
      "metadata": {
        "id": "TBX0d57TCTSL",
        "colab": {
          "base_uri": "https://localhost:8080/"
        },
        "outputId": "275a86c1-d7d3-4002-f8b6-64f73a9a7829"
      },
      "execution_count": 29,
      "outputs": [
        {
          "output_type": "stream",
          "name": "stdout",
          "text": [
            "              precision    recall  f1-score   support\n",
            "\n",
            "           0      1.000     1.000     1.000     16668\n",
            "           1      1.000     1.000     1.000     12331\n",
            "\n",
            "    accuracy                          1.000     28999\n",
            "   macro avg      1.000     1.000     1.000     28999\n",
            "weighted avg      1.000     1.000     1.000     28999\n",
            "\n"
          ]
        }
      ]
    },
    {
      "cell_type": "markdown",
      "source": [
        "Получили переобучение. Что же, еще раз можно ответить, что деревья принятия решений весьма склонны к переобучению."
      ],
      "metadata": {
        "collapsed": false,
        "id": "0OlkNY98OwKs"
      }
    },
    {
      "cell_type": "markdown",
      "source": [
        "## Добавление к лесу деревьев GridSearchCV"
      ],
      "metadata": {
        "collapsed": false,
        "id": "cPfEnIs8OwKs"
      }
    },
    {
      "cell_type": "markdown",
      "source": [
        "При помощи <code>sklearn.model_selection.GridSearchCV</code> обучите <code>RandomForestClassifier</code> на тренировочных данных c параметрами, указанными в вашем индивидуальном задании.\n",
        "\n",
        "Подбираемые параметры:\n",
        "\n",
        "<code>{'n_estimators': [100,300,500], 'max_leaf_nodes': list(range(6,10)), 'min_samples_leaf': [1,2,3]}</code>"
      ],
      "metadata": {
        "id": "RyjHh8_vD2A-"
      }
    },
    {
      "cell_type": "code",
      "execution_count": 30,
      "outputs": [
        {
          "output_type": "stream",
          "name": "stdout",
          "text": [
            "Fitting 3 folds for each of 36 candidates, totalling 108 fits\n",
            "[CV 1/3] END max_leaf_nodes=6, min_samples_leaf=1, n_estimators=100;, score=0.774 total time=   0.8s\n",
            "[CV 2/3] END max_leaf_nodes=6, min_samples_leaf=1, n_estimators=100;, score=0.766 total time=   0.8s\n",
            "[CV 3/3] END max_leaf_nodes=6, min_samples_leaf=1, n_estimators=100;, score=0.770 total time=   0.8s\n",
            "[CV 1/3] END max_leaf_nodes=6, min_samples_leaf=1, n_estimators=300;, score=0.773 total time=   2.4s\n",
            "[CV 2/3] END max_leaf_nodes=6, min_samples_leaf=1, n_estimators=300;, score=0.770 total time=   3.4s\n",
            "[CV 3/3] END max_leaf_nodes=6, min_samples_leaf=1, n_estimators=300;, score=0.773 total time=   3.5s\n",
            "[CV 1/3] END max_leaf_nodes=6, min_samples_leaf=1, n_estimators=500;, score=0.773 total time=   4.0s\n",
            "[CV 2/3] END max_leaf_nodes=6, min_samples_leaf=1, n_estimators=500;, score=0.771 total time=   4.4s\n",
            "[CV 3/3] END max_leaf_nodes=6, min_samples_leaf=1, n_estimators=500;, score=0.774 total time=   4.4s\n",
            "[CV 1/3] END max_leaf_nodes=6, min_samples_leaf=2, n_estimators=100;, score=0.774 total time=   0.8s\n",
            "[CV 2/3] END max_leaf_nodes=6, min_samples_leaf=2, n_estimators=100;, score=0.766 total time=   0.8s\n",
            "[CV 3/3] END max_leaf_nodes=6, min_samples_leaf=2, n_estimators=100;, score=0.770 total time=   0.9s\n",
            "[CV 1/3] END max_leaf_nodes=6, min_samples_leaf=2, n_estimators=300;, score=0.773 total time=   2.4s\n",
            "[CV 2/3] END max_leaf_nodes=6, min_samples_leaf=2, n_estimators=300;, score=0.770 total time=   3.1s\n",
            "[CV 3/3] END max_leaf_nodes=6, min_samples_leaf=2, n_estimators=300;, score=0.773 total time=   2.7s\n",
            "[CV 1/3] END max_leaf_nodes=6, min_samples_leaf=2, n_estimators=500;, score=0.773 total time=   4.0s\n",
            "[CV 2/3] END max_leaf_nodes=6, min_samples_leaf=2, n_estimators=500;, score=0.771 total time=   4.1s\n",
            "[CV 3/3] END max_leaf_nodes=6, min_samples_leaf=2, n_estimators=500;, score=0.774 total time=   4.8s\n",
            "[CV 1/3] END max_leaf_nodes=6, min_samples_leaf=3, n_estimators=100;, score=0.774 total time=   0.8s\n",
            "[CV 2/3] END max_leaf_nodes=6, min_samples_leaf=3, n_estimators=100;, score=0.766 total time=   0.8s\n",
            "[CV 3/3] END max_leaf_nodes=6, min_samples_leaf=3, n_estimators=100;, score=0.770 total time=   0.8s\n",
            "[CV 1/3] END max_leaf_nodes=6, min_samples_leaf=3, n_estimators=300;, score=0.773 total time=   2.4s\n",
            "[CV 2/3] END max_leaf_nodes=6, min_samples_leaf=3, n_estimators=300;, score=0.770 total time=   2.6s\n",
            "[CV 3/3] END max_leaf_nodes=6, min_samples_leaf=3, n_estimators=300;, score=0.773 total time=   3.2s\n",
            "[CV 1/3] END max_leaf_nodes=6, min_samples_leaf=3, n_estimators=500;, score=0.773 total time=   4.0s\n",
            "[CV 2/3] END max_leaf_nodes=6, min_samples_leaf=3, n_estimators=500;, score=0.771 total time=   4.0s\n",
            "[CV 3/3] END max_leaf_nodes=6, min_samples_leaf=3, n_estimators=500;, score=0.774 total time=   4.9s\n",
            "[CV 1/3] END max_leaf_nodes=7, min_samples_leaf=1, n_estimators=100;, score=0.775 total time=   0.9s\n",
            "[CV 2/3] END max_leaf_nodes=7, min_samples_leaf=1, n_estimators=100;, score=0.774 total time=   0.9s\n",
            "[CV 3/3] END max_leaf_nodes=7, min_samples_leaf=1, n_estimators=100;, score=0.775 total time=   0.9s\n",
            "[CV 1/3] END max_leaf_nodes=7, min_samples_leaf=1, n_estimators=300;, score=0.777 total time=   2.6s\n",
            "[CV 2/3] END max_leaf_nodes=7, min_samples_leaf=1, n_estimators=300;, score=0.775 total time=   2.6s\n",
            "[CV 3/3] END max_leaf_nodes=7, min_samples_leaf=1, n_estimators=300;, score=0.778 total time=   3.4s\n",
            "[CV 1/3] END max_leaf_nodes=7, min_samples_leaf=1, n_estimators=500;, score=0.777 total time=   4.5s\n",
            "[CV 2/3] END max_leaf_nodes=7, min_samples_leaf=1, n_estimators=500;, score=0.775 total time=   4.3s\n",
            "[CV 3/3] END max_leaf_nodes=7, min_samples_leaf=1, n_estimators=500;, score=0.775 total time=   5.0s\n",
            "[CV 1/3] END max_leaf_nodes=7, min_samples_leaf=2, n_estimators=100;, score=0.775 total time=   0.9s\n",
            "[CV 2/3] END max_leaf_nodes=7, min_samples_leaf=2, n_estimators=100;, score=0.774 total time=   0.9s\n",
            "[CV 3/3] END max_leaf_nodes=7, min_samples_leaf=2, n_estimators=100;, score=0.775 total time=   0.9s\n",
            "[CV 1/3] END max_leaf_nodes=7, min_samples_leaf=2, n_estimators=300;, score=0.777 total time=   2.6s\n",
            "[CV 2/3] END max_leaf_nodes=7, min_samples_leaf=2, n_estimators=300;, score=0.775 total time=   3.2s\n",
            "[CV 3/3] END max_leaf_nodes=7, min_samples_leaf=2, n_estimators=300;, score=0.778 total time=   2.6s\n",
            "[CV 1/3] END max_leaf_nodes=7, min_samples_leaf=2, n_estimators=500;, score=0.777 total time=   4.2s\n",
            "[CV 2/3] END max_leaf_nodes=7, min_samples_leaf=2, n_estimators=500;, score=0.775 total time=   4.8s\n",
            "[CV 3/3] END max_leaf_nodes=7, min_samples_leaf=2, n_estimators=500;, score=0.775 total time=   4.5s\n",
            "[CV 1/3] END max_leaf_nodes=7, min_samples_leaf=3, n_estimators=100;, score=0.775 total time=   0.9s\n",
            "[CV 2/3] END max_leaf_nodes=7, min_samples_leaf=3, n_estimators=100;, score=0.774 total time=   0.9s\n",
            "[CV 3/3] END max_leaf_nodes=7, min_samples_leaf=3, n_estimators=100;, score=0.775 total time=   0.9s\n",
            "[CV 1/3] END max_leaf_nodes=7, min_samples_leaf=3, n_estimators=300;, score=0.777 total time=   2.6s\n",
            "[CV 2/3] END max_leaf_nodes=7, min_samples_leaf=3, n_estimators=300;, score=0.775 total time=   3.3s\n",
            "[CV 3/3] END max_leaf_nodes=7, min_samples_leaf=3, n_estimators=300;, score=0.778 total time=   2.5s\n",
            "[CV 1/3] END max_leaf_nodes=7, min_samples_leaf=3, n_estimators=500;, score=0.777 total time=   4.2s\n",
            "[CV 2/3] END max_leaf_nodes=7, min_samples_leaf=3, n_estimators=500;, score=0.775 total time=   5.1s\n",
            "[CV 3/3] END max_leaf_nodes=7, min_samples_leaf=3, n_estimators=500;, score=0.775 total time=   4.2s\n",
            "[CV 1/3] END max_leaf_nodes=8, min_samples_leaf=1, n_estimators=100;, score=0.780 total time=   0.9s\n",
            "[CV 2/3] END max_leaf_nodes=8, min_samples_leaf=1, n_estimators=100;, score=0.780 total time=   0.9s\n",
            "[CV 3/3] END max_leaf_nodes=8, min_samples_leaf=1, n_estimators=100;, score=0.782 total time=   0.9s\n",
            "[CV 1/3] END max_leaf_nodes=8, min_samples_leaf=1, n_estimators=300;, score=0.780 total time=   2.7s\n",
            "[CV 2/3] END max_leaf_nodes=8, min_samples_leaf=1, n_estimators=300;, score=0.780 total time=   3.5s\n",
            "[CV 3/3] END max_leaf_nodes=8, min_samples_leaf=1, n_estimators=300;, score=0.782 total time=   2.6s\n",
            "[CV 1/3] END max_leaf_nodes=8, min_samples_leaf=1, n_estimators=500;, score=0.779 total time=   4.4s\n",
            "[CV 2/3] END max_leaf_nodes=8, min_samples_leaf=1, n_estimators=500;, score=0.780 total time=   5.2s\n",
            "[CV 3/3] END max_leaf_nodes=8, min_samples_leaf=1, n_estimators=500;, score=0.782 total time=   4.4s\n",
            "[CV 1/3] END max_leaf_nodes=8, min_samples_leaf=2, n_estimators=100;, score=0.780 total time=   0.9s\n",
            "[CV 2/3] END max_leaf_nodes=8, min_samples_leaf=2, n_estimators=100;, score=0.780 total time=   0.9s\n",
            "[CV 3/3] END max_leaf_nodes=8, min_samples_leaf=2, n_estimators=100;, score=0.782 total time=   0.9s\n",
            "[CV 1/3] END max_leaf_nodes=8, min_samples_leaf=2, n_estimators=300;, score=0.780 total time=   3.6s\n",
            "[CV 2/3] END max_leaf_nodes=8, min_samples_leaf=2, n_estimators=300;, score=0.780 total time=   2.7s\n",
            "[CV 3/3] END max_leaf_nodes=8, min_samples_leaf=2, n_estimators=300;, score=0.782 total time=   2.7s\n",
            "[CV 1/3] END max_leaf_nodes=8, min_samples_leaf=2, n_estimators=500;, score=0.779 total time=   4.7s\n",
            "[CV 2/3] END max_leaf_nodes=8, min_samples_leaf=2, n_estimators=500;, score=0.780 total time=   5.1s\n",
            "[CV 3/3] END max_leaf_nodes=8, min_samples_leaf=2, n_estimators=500;, score=0.782 total time=   4.4s\n",
            "[CV 1/3] END max_leaf_nodes=8, min_samples_leaf=3, n_estimators=100;, score=0.780 total time=   0.9s\n",
            "[CV 2/3] END max_leaf_nodes=8, min_samples_leaf=3, n_estimators=100;, score=0.780 total time=   0.9s\n",
            "[CV 3/3] END max_leaf_nodes=8, min_samples_leaf=3, n_estimators=100;, score=0.782 total time=   1.5s\n",
            "[CV 1/3] END max_leaf_nodes=8, min_samples_leaf=3, n_estimators=300;, score=0.780 total time=   2.8s\n",
            "[CV 2/3] END max_leaf_nodes=8, min_samples_leaf=3, n_estimators=300;, score=0.780 total time=   2.7s\n",
            "[CV 3/3] END max_leaf_nodes=8, min_samples_leaf=3, n_estimators=300;, score=0.782 total time=   2.7s\n",
            "[CV 1/3] END max_leaf_nodes=8, min_samples_leaf=3, n_estimators=500;, score=0.779 total time=   5.3s\n",
            "[CV 2/3] END max_leaf_nodes=8, min_samples_leaf=3, n_estimators=500;, score=0.780 total time=   4.4s\n",
            "[CV 3/3] END max_leaf_nodes=8, min_samples_leaf=3, n_estimators=500;, score=0.782 total time=   4.4s\n",
            "[CV 1/3] END max_leaf_nodes=9, min_samples_leaf=1, n_estimators=100;, score=0.783 total time=   1.7s\n",
            "[CV 2/3] END max_leaf_nodes=9, min_samples_leaf=1, n_estimators=100;, score=0.781 total time=   1.0s\n",
            "[CV 3/3] END max_leaf_nodes=9, min_samples_leaf=1, n_estimators=100;, score=0.785 total time=   0.9s\n",
            "[CV 1/3] END max_leaf_nodes=9, min_samples_leaf=1, n_estimators=300;, score=0.781 total time=   2.8s\n",
            "[CV 2/3] END max_leaf_nodes=9, min_samples_leaf=1, n_estimators=300;, score=0.781 total time=   2.7s\n",
            "[CV 3/3] END max_leaf_nodes=9, min_samples_leaf=1, n_estimators=300;, score=0.784 total time=   2.8s\n",
            "[CV 1/3] END max_leaf_nodes=9, min_samples_leaf=1, n_estimators=500;, score=0.782 total time=   5.4s\n",
            "[CV 2/3] END max_leaf_nodes=9, min_samples_leaf=1, n_estimators=500;, score=0.782 total time=   4.6s\n",
            "[CV 3/3] END max_leaf_nodes=9, min_samples_leaf=1, n_estimators=500;, score=0.784 total time=   5.5s\n",
            "[CV 1/3] END max_leaf_nodes=9, min_samples_leaf=2, n_estimators=100;, score=0.783 total time=   1.2s\n",
            "[CV 2/3] END max_leaf_nodes=9, min_samples_leaf=2, n_estimators=100;, score=0.781 total time=   0.9s\n",
            "[CV 3/3] END max_leaf_nodes=9, min_samples_leaf=2, n_estimators=100;, score=0.785 total time=   0.9s\n",
            "[CV 1/3] END max_leaf_nodes=9, min_samples_leaf=2, n_estimators=300;, score=0.781 total time=   3.0s\n",
            "[CV 2/3] END max_leaf_nodes=9, min_samples_leaf=2, n_estimators=300;, score=0.781 total time=   2.9s\n",
            "[CV 3/3] END max_leaf_nodes=9, min_samples_leaf=2, n_estimators=300;, score=0.784 total time=   3.4s\n",
            "[CV 1/3] END max_leaf_nodes=9, min_samples_leaf=2, n_estimators=500;, score=0.782 total time=   4.6s\n",
            "[CV 2/3] END max_leaf_nodes=9, min_samples_leaf=2, n_estimators=500;, score=0.782 total time=   5.4s\n",
            "[CV 3/3] END max_leaf_nodes=9, min_samples_leaf=2, n_estimators=500;, score=0.784 total time=   4.5s\n",
            "[CV 1/3] END max_leaf_nodes=9, min_samples_leaf=3, n_estimators=100;, score=0.783 total time=   1.0s\n",
            "[CV 2/3] END max_leaf_nodes=9, min_samples_leaf=3, n_estimators=100;, score=0.781 total time=   0.9s\n",
            "[CV 3/3] END max_leaf_nodes=9, min_samples_leaf=3, n_estimators=100;, score=0.785 total time=   0.9s\n",
            "[CV 1/3] END max_leaf_nodes=9, min_samples_leaf=3, n_estimators=300;, score=0.781 total time=   2.9s\n",
            "[CV 2/3] END max_leaf_nodes=9, min_samples_leaf=3, n_estimators=300;, score=0.781 total time=   3.5s\n",
            "[CV 3/3] END max_leaf_nodes=9, min_samples_leaf=3, n_estimators=300;, score=0.784 total time=   2.8s\n",
            "[CV 1/3] END max_leaf_nodes=9, min_samples_leaf=3, n_estimators=500;, score=0.782 total time=   4.6s\n",
            "[CV 2/3] END max_leaf_nodes=9, min_samples_leaf=3, n_estimators=500;, score=0.782 total time=   5.5s\n",
            "[CV 3/3] END max_leaf_nodes=9, min_samples_leaf=3, n_estimators=500;, score=0.784 total time=   4.6s\n"
          ]
        },
        {
          "output_type": "execute_result",
          "data": {
            "text/plain": [
              "GridSearchCV(cv=3,\n",
              "             estimator=RandomForestClassifier(bootstrap=False,\n",
              "                                              class_weight='balanced',\n",
              "                                              n_jobs=-1, random_state=11),\n",
              "             param_grid={'max_leaf_nodes': [6, 7, 8, 9],\n",
              "                         'min_samples_leaf': [1, 2, 3],\n",
              "                         'n_estimators': [100, 300, 500]},\n",
              "             verbose=4)"
            ],
            "text/html": [
              "<style>#sk-container-id-1 {\n",
              "  /* Definition of color scheme common for light and dark mode */\n",
              "  --sklearn-color-text: black;\n",
              "  --sklearn-color-line: gray;\n",
              "  /* Definition of color scheme for unfitted estimators */\n",
              "  --sklearn-color-unfitted-level-0: #fff5e6;\n",
              "  --sklearn-color-unfitted-level-1: #f6e4d2;\n",
              "  --sklearn-color-unfitted-level-2: #ffe0b3;\n",
              "  --sklearn-color-unfitted-level-3: chocolate;\n",
              "  /* Definition of color scheme for fitted estimators */\n",
              "  --sklearn-color-fitted-level-0: #f0f8ff;\n",
              "  --sklearn-color-fitted-level-1: #d4ebff;\n",
              "  --sklearn-color-fitted-level-2: #b3dbfd;\n",
              "  --sklearn-color-fitted-level-3: cornflowerblue;\n",
              "\n",
              "  /* Specific color for light theme */\n",
              "  --sklearn-color-text-on-default-background: var(--sg-text-color, var(--theme-code-foreground, var(--jp-content-font-color1, black)));\n",
              "  --sklearn-color-background: var(--sg-background-color, var(--theme-background, var(--jp-layout-color0, white)));\n",
              "  --sklearn-color-border-box: var(--sg-text-color, var(--theme-code-foreground, var(--jp-content-font-color1, black)));\n",
              "  --sklearn-color-icon: #696969;\n",
              "\n",
              "  @media (prefers-color-scheme: dark) {\n",
              "    /* Redefinition of color scheme for dark theme */\n",
              "    --sklearn-color-text-on-default-background: var(--sg-text-color, var(--theme-code-foreground, var(--jp-content-font-color1, white)));\n",
              "    --sklearn-color-background: var(--sg-background-color, var(--theme-background, var(--jp-layout-color0, #111)));\n",
              "    --sklearn-color-border-box: var(--sg-text-color, var(--theme-code-foreground, var(--jp-content-font-color1, white)));\n",
              "    --sklearn-color-icon: #878787;\n",
              "  }\n",
              "}\n",
              "\n",
              "#sk-container-id-1 {\n",
              "  color: var(--sklearn-color-text);\n",
              "}\n",
              "\n",
              "#sk-container-id-1 pre {\n",
              "  padding: 0;\n",
              "}\n",
              "\n",
              "#sk-container-id-1 input.sk-hidden--visually {\n",
              "  border: 0;\n",
              "  clip: rect(1px 1px 1px 1px);\n",
              "  clip: rect(1px, 1px, 1px, 1px);\n",
              "  height: 1px;\n",
              "  margin: -1px;\n",
              "  overflow: hidden;\n",
              "  padding: 0;\n",
              "  position: absolute;\n",
              "  width: 1px;\n",
              "}\n",
              "\n",
              "#sk-container-id-1 div.sk-dashed-wrapped {\n",
              "  border: 1px dashed var(--sklearn-color-line);\n",
              "  margin: 0 0.4em 0.5em 0.4em;\n",
              "  box-sizing: border-box;\n",
              "  padding-bottom: 0.4em;\n",
              "  background-color: var(--sklearn-color-background);\n",
              "}\n",
              "\n",
              "#sk-container-id-1 div.sk-container {\n",
              "  /* jupyter's `normalize.less` sets `[hidden] { display: none; }`\n",
              "     but bootstrap.min.css set `[hidden] { display: none !important; }`\n",
              "     so we also need the `!important` here to be able to override the\n",
              "     default hidden behavior on the sphinx rendered scikit-learn.org.\n",
              "     See: https://github.com/scikit-learn/scikit-learn/issues/21755 */\n",
              "  display: inline-block !important;\n",
              "  position: relative;\n",
              "}\n",
              "\n",
              "#sk-container-id-1 div.sk-text-repr-fallback {\n",
              "  display: none;\n",
              "}\n",
              "\n",
              "div.sk-parallel-item,\n",
              "div.sk-serial,\n",
              "div.sk-item {\n",
              "  /* draw centered vertical line to link estimators */\n",
              "  background-image: linear-gradient(var(--sklearn-color-text-on-default-background), var(--sklearn-color-text-on-default-background));\n",
              "  background-size: 2px 100%;\n",
              "  background-repeat: no-repeat;\n",
              "  background-position: center center;\n",
              "}\n",
              "\n",
              "/* Parallel-specific style estimator block */\n",
              "\n",
              "#sk-container-id-1 div.sk-parallel-item::after {\n",
              "  content: \"\";\n",
              "  width: 100%;\n",
              "  border-bottom: 2px solid var(--sklearn-color-text-on-default-background);\n",
              "  flex-grow: 1;\n",
              "}\n",
              "\n",
              "#sk-container-id-1 div.sk-parallel {\n",
              "  display: flex;\n",
              "  align-items: stretch;\n",
              "  justify-content: center;\n",
              "  background-color: var(--sklearn-color-background);\n",
              "  position: relative;\n",
              "}\n",
              "\n",
              "#sk-container-id-1 div.sk-parallel-item {\n",
              "  display: flex;\n",
              "  flex-direction: column;\n",
              "}\n",
              "\n",
              "#sk-container-id-1 div.sk-parallel-item:first-child::after {\n",
              "  align-self: flex-end;\n",
              "  width: 50%;\n",
              "}\n",
              "\n",
              "#sk-container-id-1 div.sk-parallel-item:last-child::after {\n",
              "  align-self: flex-start;\n",
              "  width: 50%;\n",
              "}\n",
              "\n",
              "#sk-container-id-1 div.sk-parallel-item:only-child::after {\n",
              "  width: 0;\n",
              "}\n",
              "\n",
              "/* Serial-specific style estimator block */\n",
              "\n",
              "#sk-container-id-1 div.sk-serial {\n",
              "  display: flex;\n",
              "  flex-direction: column;\n",
              "  align-items: center;\n",
              "  background-color: var(--sklearn-color-background);\n",
              "  padding-right: 1em;\n",
              "  padding-left: 1em;\n",
              "}\n",
              "\n",
              "\n",
              "/* Toggleable style: style used for estimator/Pipeline/ColumnTransformer box that is\n",
              "clickable and can be expanded/collapsed.\n",
              "- Pipeline and ColumnTransformer use this feature and define the default style\n",
              "- Estimators will overwrite some part of the style using the `sk-estimator` class\n",
              "*/\n",
              "\n",
              "/* Pipeline and ColumnTransformer style (default) */\n",
              "\n",
              "#sk-container-id-1 div.sk-toggleable {\n",
              "  /* Default theme specific background. It is overwritten whether we have a\n",
              "  specific estimator or a Pipeline/ColumnTransformer */\n",
              "  background-color: var(--sklearn-color-background);\n",
              "}\n",
              "\n",
              "/* Toggleable label */\n",
              "#sk-container-id-1 label.sk-toggleable__label {\n",
              "  cursor: pointer;\n",
              "  display: block;\n",
              "  width: 100%;\n",
              "  margin-bottom: 0;\n",
              "  padding: 0.5em;\n",
              "  box-sizing: border-box;\n",
              "  text-align: center;\n",
              "}\n",
              "\n",
              "#sk-container-id-1 label.sk-toggleable__label-arrow:before {\n",
              "  /* Arrow on the left of the label */\n",
              "  content: \"▸\";\n",
              "  float: left;\n",
              "  margin-right: 0.25em;\n",
              "  color: var(--sklearn-color-icon);\n",
              "}\n",
              "\n",
              "#sk-container-id-1 label.sk-toggleable__label-arrow:hover:before {\n",
              "  color: var(--sklearn-color-text);\n",
              "}\n",
              "\n",
              "/* Toggleable content - dropdown */\n",
              "\n",
              "#sk-container-id-1 div.sk-toggleable__content {\n",
              "  max-height: 0;\n",
              "  max-width: 0;\n",
              "  overflow: hidden;\n",
              "  text-align: left;\n",
              "  /* unfitted */\n",
              "  background-color: var(--sklearn-color-unfitted-level-0);\n",
              "}\n",
              "\n",
              "#sk-container-id-1 div.sk-toggleable__content.fitted {\n",
              "  /* fitted */\n",
              "  background-color: var(--sklearn-color-fitted-level-0);\n",
              "}\n",
              "\n",
              "#sk-container-id-1 div.sk-toggleable__content pre {\n",
              "  margin: 0.2em;\n",
              "  border-radius: 0.25em;\n",
              "  color: var(--sklearn-color-text);\n",
              "  /* unfitted */\n",
              "  background-color: var(--sklearn-color-unfitted-level-0);\n",
              "}\n",
              "\n",
              "#sk-container-id-1 div.sk-toggleable__content.fitted pre {\n",
              "  /* unfitted */\n",
              "  background-color: var(--sklearn-color-fitted-level-0);\n",
              "}\n",
              "\n",
              "#sk-container-id-1 input.sk-toggleable__control:checked~div.sk-toggleable__content {\n",
              "  /* Expand drop-down */\n",
              "  max-height: 200px;\n",
              "  max-width: 100%;\n",
              "  overflow: auto;\n",
              "}\n",
              "\n",
              "#sk-container-id-1 input.sk-toggleable__control:checked~label.sk-toggleable__label-arrow:before {\n",
              "  content: \"▾\";\n",
              "}\n",
              "\n",
              "/* Pipeline/ColumnTransformer-specific style */\n",
              "\n",
              "#sk-container-id-1 div.sk-label input.sk-toggleable__control:checked~label.sk-toggleable__label {\n",
              "  color: var(--sklearn-color-text);\n",
              "  background-color: var(--sklearn-color-unfitted-level-2);\n",
              "}\n",
              "\n",
              "#sk-container-id-1 div.sk-label.fitted input.sk-toggleable__control:checked~label.sk-toggleable__label {\n",
              "  background-color: var(--sklearn-color-fitted-level-2);\n",
              "}\n",
              "\n",
              "/* Estimator-specific style */\n",
              "\n",
              "/* Colorize estimator box */\n",
              "#sk-container-id-1 div.sk-estimator input.sk-toggleable__control:checked~label.sk-toggleable__label {\n",
              "  /* unfitted */\n",
              "  background-color: var(--sklearn-color-unfitted-level-2);\n",
              "}\n",
              "\n",
              "#sk-container-id-1 div.sk-estimator.fitted input.sk-toggleable__control:checked~label.sk-toggleable__label {\n",
              "  /* fitted */\n",
              "  background-color: var(--sklearn-color-fitted-level-2);\n",
              "}\n",
              "\n",
              "#sk-container-id-1 div.sk-label label.sk-toggleable__label,\n",
              "#sk-container-id-1 div.sk-label label {\n",
              "  /* The background is the default theme color */\n",
              "  color: var(--sklearn-color-text-on-default-background);\n",
              "}\n",
              "\n",
              "/* On hover, darken the color of the background */\n",
              "#sk-container-id-1 div.sk-label:hover label.sk-toggleable__label {\n",
              "  color: var(--sklearn-color-text);\n",
              "  background-color: var(--sklearn-color-unfitted-level-2);\n",
              "}\n",
              "\n",
              "/* Label box, darken color on hover, fitted */\n",
              "#sk-container-id-1 div.sk-label.fitted:hover label.sk-toggleable__label.fitted {\n",
              "  color: var(--sklearn-color-text);\n",
              "  background-color: var(--sklearn-color-fitted-level-2);\n",
              "}\n",
              "\n",
              "/* Estimator label */\n",
              "\n",
              "#sk-container-id-1 div.sk-label label {\n",
              "  font-family: monospace;\n",
              "  font-weight: bold;\n",
              "  display: inline-block;\n",
              "  line-height: 1.2em;\n",
              "}\n",
              "\n",
              "#sk-container-id-1 div.sk-label-container {\n",
              "  text-align: center;\n",
              "}\n",
              "\n",
              "/* Estimator-specific */\n",
              "#sk-container-id-1 div.sk-estimator {\n",
              "  font-family: monospace;\n",
              "  border: 1px dotted var(--sklearn-color-border-box);\n",
              "  border-radius: 0.25em;\n",
              "  box-sizing: border-box;\n",
              "  margin-bottom: 0.5em;\n",
              "  /* unfitted */\n",
              "  background-color: var(--sklearn-color-unfitted-level-0);\n",
              "}\n",
              "\n",
              "#sk-container-id-1 div.sk-estimator.fitted {\n",
              "  /* fitted */\n",
              "  background-color: var(--sklearn-color-fitted-level-0);\n",
              "}\n",
              "\n",
              "/* on hover */\n",
              "#sk-container-id-1 div.sk-estimator:hover {\n",
              "  /* unfitted */\n",
              "  background-color: var(--sklearn-color-unfitted-level-2);\n",
              "}\n",
              "\n",
              "#sk-container-id-1 div.sk-estimator.fitted:hover {\n",
              "  /* fitted */\n",
              "  background-color: var(--sklearn-color-fitted-level-2);\n",
              "}\n",
              "\n",
              "/* Specification for estimator info (e.g. \"i\" and \"?\") */\n",
              "\n",
              "/* Common style for \"i\" and \"?\" */\n",
              "\n",
              ".sk-estimator-doc-link,\n",
              "a:link.sk-estimator-doc-link,\n",
              "a:visited.sk-estimator-doc-link {\n",
              "  float: right;\n",
              "  font-size: smaller;\n",
              "  line-height: 1em;\n",
              "  font-family: monospace;\n",
              "  background-color: var(--sklearn-color-background);\n",
              "  border-radius: 1em;\n",
              "  height: 1em;\n",
              "  width: 1em;\n",
              "  text-decoration: none !important;\n",
              "  margin-left: 1ex;\n",
              "  /* unfitted */\n",
              "  border: var(--sklearn-color-unfitted-level-1) 1pt solid;\n",
              "  color: var(--sklearn-color-unfitted-level-1);\n",
              "}\n",
              "\n",
              ".sk-estimator-doc-link.fitted,\n",
              "a:link.sk-estimator-doc-link.fitted,\n",
              "a:visited.sk-estimator-doc-link.fitted {\n",
              "  /* fitted */\n",
              "  border: var(--sklearn-color-fitted-level-1) 1pt solid;\n",
              "  color: var(--sklearn-color-fitted-level-1);\n",
              "}\n",
              "\n",
              "/* On hover */\n",
              "div.sk-estimator:hover .sk-estimator-doc-link:hover,\n",
              ".sk-estimator-doc-link:hover,\n",
              "div.sk-label-container:hover .sk-estimator-doc-link:hover,\n",
              ".sk-estimator-doc-link:hover {\n",
              "  /* unfitted */\n",
              "  background-color: var(--sklearn-color-unfitted-level-3);\n",
              "  color: var(--sklearn-color-background);\n",
              "  text-decoration: none;\n",
              "}\n",
              "\n",
              "div.sk-estimator.fitted:hover .sk-estimator-doc-link.fitted:hover,\n",
              ".sk-estimator-doc-link.fitted:hover,\n",
              "div.sk-label-container:hover .sk-estimator-doc-link.fitted:hover,\n",
              ".sk-estimator-doc-link.fitted:hover {\n",
              "  /* fitted */\n",
              "  background-color: var(--sklearn-color-fitted-level-3);\n",
              "  color: var(--sklearn-color-background);\n",
              "  text-decoration: none;\n",
              "}\n",
              "\n",
              "/* Span, style for the box shown on hovering the info icon */\n",
              ".sk-estimator-doc-link span {\n",
              "  display: none;\n",
              "  z-index: 9999;\n",
              "  position: relative;\n",
              "  font-weight: normal;\n",
              "  right: .2ex;\n",
              "  padding: .5ex;\n",
              "  margin: .5ex;\n",
              "  width: min-content;\n",
              "  min-width: 20ex;\n",
              "  max-width: 50ex;\n",
              "  color: var(--sklearn-color-text);\n",
              "  box-shadow: 2pt 2pt 4pt #999;\n",
              "  /* unfitted */\n",
              "  background: var(--sklearn-color-unfitted-level-0);\n",
              "  border: .5pt solid var(--sklearn-color-unfitted-level-3);\n",
              "}\n",
              "\n",
              ".sk-estimator-doc-link.fitted span {\n",
              "  /* fitted */\n",
              "  background: var(--sklearn-color-fitted-level-0);\n",
              "  border: var(--sklearn-color-fitted-level-3);\n",
              "}\n",
              "\n",
              ".sk-estimator-doc-link:hover span {\n",
              "  display: block;\n",
              "}\n",
              "\n",
              "/* \"?\"-specific style due to the `<a>` HTML tag */\n",
              "\n",
              "#sk-container-id-1 a.estimator_doc_link {\n",
              "  float: right;\n",
              "  font-size: 1rem;\n",
              "  line-height: 1em;\n",
              "  font-family: monospace;\n",
              "  background-color: var(--sklearn-color-background);\n",
              "  border-radius: 1rem;\n",
              "  height: 1rem;\n",
              "  width: 1rem;\n",
              "  text-decoration: none;\n",
              "  /* unfitted */\n",
              "  color: var(--sklearn-color-unfitted-level-1);\n",
              "  border: var(--sklearn-color-unfitted-level-1) 1pt solid;\n",
              "}\n",
              "\n",
              "#sk-container-id-1 a.estimator_doc_link.fitted {\n",
              "  /* fitted */\n",
              "  border: var(--sklearn-color-fitted-level-1) 1pt solid;\n",
              "  color: var(--sklearn-color-fitted-level-1);\n",
              "}\n",
              "\n",
              "/* On hover */\n",
              "#sk-container-id-1 a.estimator_doc_link:hover {\n",
              "  /* unfitted */\n",
              "  background-color: var(--sklearn-color-unfitted-level-3);\n",
              "  color: var(--sklearn-color-background);\n",
              "  text-decoration: none;\n",
              "}\n",
              "\n",
              "#sk-container-id-1 a.estimator_doc_link.fitted:hover {\n",
              "  /* fitted */\n",
              "  background-color: var(--sklearn-color-fitted-level-3);\n",
              "}\n",
              "</style><div id=\"sk-container-id-1\" class=\"sk-top-container\"><div class=\"sk-text-repr-fallback\"><pre>GridSearchCV(cv=3,\n",
              "             estimator=RandomForestClassifier(bootstrap=False,\n",
              "                                              class_weight=&#x27;balanced&#x27;,\n",
              "                                              n_jobs=-1, random_state=11),\n",
              "             param_grid={&#x27;max_leaf_nodes&#x27;: [6, 7, 8, 9],\n",
              "                         &#x27;min_samples_leaf&#x27;: [1, 2, 3],\n",
              "                         &#x27;n_estimators&#x27;: [100, 300, 500]},\n",
              "             verbose=4)</pre><b>In a Jupyter environment, please rerun this cell to show the HTML representation or trust the notebook. <br />On GitHub, the HTML representation is unable to render, please try loading this page with nbviewer.org.</b></div><div class=\"sk-container\" hidden><div class=\"sk-item sk-dashed-wrapped\"><div class=\"sk-label-container\"><div class=\"sk-label fitted sk-toggleable\"><input class=\"sk-toggleable__control sk-hidden--visually\" id=\"sk-estimator-id-1\" type=\"checkbox\" ><label for=\"sk-estimator-id-1\" class=\"sk-toggleable__label fitted sk-toggleable__label-arrow fitted\">&nbsp;&nbsp;GridSearchCV<a class=\"sk-estimator-doc-link fitted\" rel=\"noreferrer\" target=\"_blank\" href=\"https://scikit-learn.org/1.5/modules/generated/sklearn.model_selection.GridSearchCV.html\">?<span>Documentation for GridSearchCV</span></a><span class=\"sk-estimator-doc-link fitted\">i<span>Fitted</span></span></label><div class=\"sk-toggleable__content fitted\"><pre>GridSearchCV(cv=3,\n",
              "             estimator=RandomForestClassifier(bootstrap=False,\n",
              "                                              class_weight=&#x27;balanced&#x27;,\n",
              "                                              n_jobs=-1, random_state=11),\n",
              "             param_grid={&#x27;max_leaf_nodes&#x27;: [6, 7, 8, 9],\n",
              "                         &#x27;min_samples_leaf&#x27;: [1, 2, 3],\n",
              "                         &#x27;n_estimators&#x27;: [100, 300, 500]},\n",
              "             verbose=4)</pre></div> </div></div><div class=\"sk-parallel\"><div class=\"sk-parallel-item\"><div class=\"sk-item\"><div class=\"sk-label-container\"><div class=\"sk-label fitted sk-toggleable\"><input class=\"sk-toggleable__control sk-hidden--visually\" id=\"sk-estimator-id-2\" type=\"checkbox\" ><label for=\"sk-estimator-id-2\" class=\"sk-toggleable__label fitted sk-toggleable__label-arrow fitted\">best_estimator_: RandomForestClassifier</label><div class=\"sk-toggleable__content fitted\"><pre>RandomForestClassifier(bootstrap=False, class_weight=&#x27;balanced&#x27;,\n",
              "                       max_leaf_nodes=9, n_jobs=-1, random_state=11)</pre></div> </div></div><div class=\"sk-serial\"><div class=\"sk-item\"><div class=\"sk-estimator fitted sk-toggleable\"><input class=\"sk-toggleable__control sk-hidden--visually\" id=\"sk-estimator-id-3\" type=\"checkbox\" ><label for=\"sk-estimator-id-3\" class=\"sk-toggleable__label fitted sk-toggleable__label-arrow fitted\">&nbsp;RandomForestClassifier<a class=\"sk-estimator-doc-link fitted\" rel=\"noreferrer\" target=\"_blank\" href=\"https://scikit-learn.org/1.5/modules/generated/sklearn.ensemble.RandomForestClassifier.html\">?<span>Documentation for RandomForestClassifier</span></a></label><div class=\"sk-toggleable__content fitted\"><pre>RandomForestClassifier(bootstrap=False, class_weight=&#x27;balanced&#x27;,\n",
              "                       max_leaf_nodes=9, n_jobs=-1, random_state=11)</pre></div> </div></div></div></div></div></div></div></div></div>"
            ]
          },
          "metadata": {},
          "execution_count": 30
        }
      ],
      "source": [
        "# < ENTER YOUR CODE HERE >\n",
        "from sklearn.model_selection import GridSearchCV\n",
        "\n",
        "params_grid = {\n",
        "    'n_estimators': [100, 300, 500],\n",
        "    'max_leaf_nodes': list(range(6, 10)),\n",
        "    'min_samples_leaf': [1, 2, 3]\n",
        "}\n",
        "\n",
        "rf_model = RandomForestClassifier(\n",
        "    bootstrap=False,\n",
        "    class_weight='balanced',\n",
        "    n_jobs=-1,\n",
        "    max_features='sqrt',\n",
        "    random_state=11\n",
        ")\n",
        "\n",
        "grid_search = GridSearchCV(\n",
        "    estimator=rf_model,\n",
        "    param_grid=params_grid,\n",
        "    verbose=4,\n",
        "    cv=3\n",
        ")\n",
        "\n",
        "grid_search.fit(X_train, y_train)"
      ],
      "metadata": {
        "id": "5UZ-3wuyOwKs",
        "colab": {
          "base_uri": "https://localhost:8080/",
          "height": 1000
        },
        "outputId": "ea4efc65-e2fd-498a-bf6e-b2be206bc41d"
      }
    },
    {
      "cell_type": "markdown",
      "source": [
        "Выберите лучшую модель. Рекомендуем использовать поле <code>best_estimator_</code> объекта класса <code>grid_search</code>. В поле <code>best_params_</code> этого же объекта можно найти параметры лучшей модели."
      ],
      "metadata": {
        "id": "zZwCpNp3KS5y"
      }
    },
    {
      "cell_type": "code",
      "execution_count": 31,
      "outputs": [
        {
          "output_type": "stream",
          "name": "stdout",
          "text": [
            "Лучшие параметры: {'max_leaf_nodes': 9, 'min_samples_leaf': 1, 'n_estimators': 100}\n",
            "\n",
            "Лучшая модель:\n",
            " RandomForestClassifier(bootstrap=False, class_weight='balanced',\n",
            "                       max_leaf_nodes=9, n_jobs=-1, random_state=11)\n"
          ]
        }
      ],
      "source": [
        "# < ENTER YOUR CODE HERE >\n",
        "\n",
        "best_model = grid_search.best_estimator_\n",
        "best_params = grid_search.best_params_\n",
        "\n",
        "print(\"Лучшие параметры:\", best_params)\n",
        "print(\"\\nЛучшая модель:\\n\", best_model)"
      ],
      "metadata": {
        "id": "k55iDQNWOwKt",
        "colab": {
          "base_uri": "https://localhost:8080/"
        },
        "outputId": "28da067a-8d2b-4175-b5c5-a4e3c8389200"
      }
    },
    {
      "cell_type": "markdown",
      "source": [
        "Постройте <code>classification_report</code> полученной модели на **тренировочных данных**. Введите значение точности модели на **тренировочных данных**."
      ],
      "metadata": {
        "collapsed": false,
        "id": "d3GLyploOwKt"
      }
    },
    {
      "cell_type": "markdown",
      "source": [
        "Постройте <code>classification_report</code> полученной модели на **тестовых данных**. Введите значение точности модели на **тестовых данных**."
      ],
      "metadata": {
        "collapsed": false,
        "id": "0uhEO7qrOwKu"
      }
    },
    {
      "cell_type": "code",
      "execution_count": 33,
      "outputs": [
        {
          "output_type": "stream",
          "name": "stdout",
          "text": [
            "Classification Report (Training Data):\n",
            "\n",
            "              precision    recall  f1-score   support\n",
            "\n",
            "           0    0.77817   0.87761   0.82490     16668\n",
            "           1    0.80002   0.66183   0.72439     12331\n",
            "\n",
            "    accuracy                        0.78585     28999\n",
            "   macro avg    0.78909   0.76972   0.77465     28999\n",
            "weighted avg    0.78746   0.78585   0.78216     28999\n",
            "\n",
            "\n",
            "Classification Report (Test Data):\n",
            "\n",
            "              precision    recall  f1-score   support\n",
            "\n",
            "           0    0.78435   0.87285   0.82624      4192\n",
            "           1    0.79381   0.67103   0.72727      3058\n",
            "\n",
            "    accuracy                        0.78772      7250\n",
            "   macro avg    0.78908   0.77194   0.77676      7250\n",
            "weighted avg    0.78834   0.78772   0.78450      7250\n",
            "\n"
          ]
        }
      ],
      "source": [
        "# < ENTER YOUR CODE HERE >\n",
        "y_train_pred = best_model.predict(X_train)\n",
        "\n",
        "y_test_pred = best_model.predict(X_test)\n",
        "\n",
        "train_report = classification_report(y_train, y_train_pred, digits=5)\n",
        "print(\"Classification Report (Training Data):\\n\")\n",
        "print(train_report)\n",
        "\n",
        "test_report = classification_report(y_test, y_test_pred, digits=5)\n",
        "print(\"\\nClassification Report (Test Data):\\n\")\n",
        "print(test_report)"
      ],
      "metadata": {
        "id": "R_LdKm8COwKt",
        "colab": {
          "base_uri": "https://localhost:8080/"
        },
        "outputId": "4c183fb2-bfa9-4c80-c9c7-32d91db73807"
      }
    },
    {
      "cell_type": "markdown",
      "source": [
        "От переобучения избавились, но точность кажется низкой.\n",
        "\n",
        "Один из плюсов случайного леса — можно посмотреть на важность признаков при классификации (обратная задача). Значения важности можно найти в поле <code>feature_importances_</code> модели. Определите название самого важного признака модели."
      ],
      "metadata": {
        "collapsed": false,
        "id": "3XQw9dQ_OwKv"
      }
    },
    {
      "cell_type": "code",
      "execution_count": 35,
      "outputs": [
        {
          "output_type": "stream",
          "name": "stdout",
          "text": [
            "most important feature: nswprice\n",
            "importance: 0.52199\n"
          ]
        }
      ],
      "source": [
        "# < ENTER YOUR CODE HERE >\n",
        "import numpy as np\n",
        "\n",
        "feature_importances = best_model.feature_importances_\n",
        "most_important_index = np.argmax(feature_importances)\n",
        "\n",
        "most_important_feature = X_train.columns[most_important_index]\n",
        "\n",
        "print(f\"most important feature: {most_important_feature}\")\n",
        "print(f\"importance: {feature_importances[most_important_index]:.5f}\")"
      ],
      "metadata": {
        "id": "-5Auo3oaOwKv",
        "colab": {
          "base_uri": "https://localhost:8080/"
        },
        "outputId": "d794949b-c18e-401b-ec74-82f5897cf839"
      }
    },
    {
      "cell_type": "markdown",
      "source": [
        "Попробуем улучшить результаты, используя другие виды ансамблей."
      ],
      "metadata": {
        "collapsed": false,
        "id": "QcUnr6t-OwKw"
      }
    },
    {
      "cell_type": "markdown",
      "source": [
        "# Voting Classifier"
      ],
      "metadata": {
        "collapsed": false,
        "id": "HVu9rFLOOwKw"
      }
    },
    {
      "cell_type": "markdown",
      "source": [
        "Обучает все модели, поданные на вход, и предсказывает финальный результат либо по большему числу одинаковых ответов, которые дали модели (hard), либо вычисляет вероятность отнесения объектов к классам по всем моделям и берет argmax."
      ],
      "metadata": {
        "collapsed": false,
        "id": "kbojfuNbOwKx"
      }
    },
    {
      "cell_type": "markdown",
      "source": [
        "Используйте объект <code>sklearn.ensemble.VotingClassifier</code> с параметром <code>voting='hard'</code>. В качестве базовых алгоритмов используйте классификаторы с соответствующими параметрами, указанными в вашем индивидуальном задании. Обучите модель на тренировочных данных"
      ],
      "metadata": {
        "id": "o3d4ywmw1LyT"
      }
    },
    {
      "cell_type": "code",
      "execution_count": 36,
      "outputs": [],
      "source": [
        "# < ENTER YOUR CODE HERE >\n",
        "from sklearn.ensemble import VotingClassifier\n",
        "from sklearn.linear_model import LogisticRegression, SGDClassifier\n",
        "from sklearn.svm import SVC\n",
        "from sklearn.metrics import classification_report, accuracy_score\n",
        "\n",
        "# базовые классификаторы\n",
        "logreg = LogisticRegression(solver='liblinear', random_state=11)\n",
        "svc = SVC(random_state=11, probability=True)\n",
        "sgd = SGDClassifier(random_state=11)\n",
        "\n",
        "# VotingClassifier с параметром voting='hard'\n",
        "voting_clf = VotingClassifier(\n",
        "    estimators=[\n",
        "        ('logreg', logreg),\n",
        "        ('svc', svc),\n",
        "        ('sgd', sgd)\n",
        "    ],\n",
        "    voting='hard'\n",
        ")\n",
        "\n",
        "voting_clf.fit(X_train, y_train)\n",
        "\n",
        "y_test_pred = voting_clf.predict(X_test)"
      ],
      "metadata": {
        "id": "1DAjKsI9OwKy"
      }
    },
    {
      "cell_type": "markdown",
      "source": [
        "Вычислите точность модели на **тестовых данных**"
      ],
      "metadata": {
        "id": "A_N2EDoZ2oOZ"
      }
    },
    {
      "cell_type": "code",
      "execution_count": 37,
      "outputs": [
        {
          "output_type": "stream",
          "name": "stdout",
          "text": [
            "Точность модели на тестовых данных: 0.75986\n",
            "\n",
            "Classification Report (Test Data):\n",
            "\n",
            "              precision    recall  f1-score   support\n",
            "\n",
            "           0    0.75097   0.87476   0.80815      4192\n",
            "           1    0.77820   0.60235   0.67908      3058\n",
            "\n",
            "    accuracy                        0.75986      7250\n",
            "   macro avg    0.76459   0.73856   0.74362      7250\n",
            "weighted avg    0.76246   0.75986   0.75371      7250\n",
            "\n"
          ]
        }
      ],
      "source": [
        "# < ENTER YOUR CODE HERE >\n",
        "accuracy = accuracy_score(y_test, y_test_pred)\n",
        "print(f\"Точность модели на тестовых данных: {accuracy:.5f}\")\n",
        "\n",
        "report = classification_report(y_test, y_test_pred, digits=5)\n",
        "print(\"\\nClassification Report (Test Data):\\n\")\n",
        "print(report)"
      ],
      "metadata": {
        "id": "AR1KVgWyOwK0",
        "colab": {
          "base_uri": "https://localhost:8080/"
        },
        "outputId": "6fd8f929-39f5-4142-99ab-61186aa70117"
      }
    },
    {
      "cell_type": "markdown",
      "source": [
        "# Bagging Classifier"
      ],
      "metadata": {
        "collapsed": false,
        "id": "Ws7He2W9OwK1"
      }
    },
    {
      "cell_type": "markdown",
      "source": [
        "Создает несколько объектов одного класса (несколько моделей) и обучает их на непересекающихся подмножествах тренировочных данных, а дальше усредняет ответы."
      ],
      "metadata": {
        "collapsed": false,
        "id": "-YsVZtnuOwK1"
      }
    },
    {
      "cell_type": "markdown",
      "source": [
        "На основе <code>sklearn.ensemble.BaggingClassifier</code>, используя <code>DecisionTreeClassifier</code> обучите модель с параметрами, указанными в вашем индивидуальном задании на тренировочных данных."
      ],
      "metadata": {
        "id": "doGMIkccPlk0"
      }
    },
    {
      "cell_type": "code",
      "execution_count": 41,
      "outputs": [],
      "source": [
        "# < ENTER YOUR CODE HERE >\n",
        "from sklearn.ensemble import BaggingClassifier\n",
        "from sklearn.tree import DecisionTreeClassifier\n",
        "\n",
        "# Создание BaggingClassifier с базовым DecisionTreeClassifier\n",
        "bagging_clf = BaggingClassifier(\n",
        "    DecisionTreeClassifier(class_weight='balanced'),\n",
        "    max_samples=0.5,\n",
        "    max_features=0.5,\n",
        "    bootstrap=False,\n",
        "    random_state=11\n",
        ")\n",
        "\n",
        "bagging_clf.fit(X_train, y_train)\n",
        "\n",
        "y_test_pred = bagging_clf.predict(X_test)"
      ],
      "metadata": {
        "id": "dxzRPukwOwK1"
      }
    },
    {
      "cell_type": "markdown",
      "source": [
        "Вычислите точность модели на **тестовых данных**"
      ],
      "metadata": {
        "id": "n_ffcNRAQdYN"
      }
    },
    {
      "cell_type": "code",
      "execution_count": 42,
      "outputs": [
        {
          "output_type": "stream",
          "name": "stdout",
          "text": [
            "Classification Report (Test Data):\n",
            "\n",
            "              precision    recall  f1-score   support\n",
            "\n",
            "           0    0.85942   0.91150   0.88470      4192\n",
            "           1    0.86769   0.79562   0.83009      3058\n",
            "\n",
            "    accuracy                        0.86262      7250\n",
            "   macro avg    0.86356   0.85356   0.85739      7250\n",
            "weighted avg    0.86291   0.86262   0.86166      7250\n",
            "\n"
          ]
        }
      ],
      "source": [
        "# < ENTER YOUR CODE HERE >\n",
        "report = classification_report(y_test, y_test_pred, digits=5)\n",
        "print(\"Classification Report (Test Data):\\n\")\n",
        "print(report)"
      ],
      "metadata": {
        "id": "hIhBFyh2OwK2",
        "colab": {
          "base_uri": "https://localhost:8080/"
        },
        "outputId": "15738ba2-80d1-4fa5-85b2-64b4811b877e"
      }
    },
    {
      "cell_type": "markdown",
      "source": [
        "# Gradient Boosting Classifier"
      ],
      "metadata": {
        "collapsed": false,
        "id": "Ls9MVZA_OwK3"
      }
    },
    {
      "cell_type": "markdown",
      "source": [
        "Градиентный бустинг работает примерно так: создается несколько объектов класса (несколько моделей), они выстраиваются в цепочку так, чтобы каждый следующий пытался исправить ошибки предыдущего. Склонен к переобучению.\n",
        "\n",
        "Обучите модель на основе <code>sklearn.ensemble.GradientBoostingClassifier</code> с параметрами, указанными в вашем индивидуальном задании на тренировочных данных."
      ],
      "metadata": {
        "collapsed": false,
        "id": "pgfdAw9DOwK3"
      }
    },
    {
      "cell_type": "code",
      "execution_count": 43,
      "outputs": [],
      "source": [
        "# < ENTER YOUR CODE HERE >\n",
        "from sklearn.ensemble import GradientBoostingClassifier\n",
        "\n",
        "gbm_clf = GradientBoostingClassifier(\n",
        "    n_estimators=500,\n",
        "    learning_rate=0.8,\n",
        "    random_state=11,\n",
        "    max_depth=2\n",
        ")\n",
        "\n",
        "gbm_clf.fit(X_train, y_train)\n",
        "\n",
        "y_test_pred = gbm_clf.predict(X_test)"
      ],
      "metadata": {
        "id": "V0vooqAZOwK4"
      }
    },
    {
      "cell_type": "markdown",
      "source": [
        "Вычислите точность модели на **тестовых данных**"
      ],
      "metadata": {
        "id": "bOelcde2Q7ci"
      }
    },
    {
      "cell_type": "code",
      "execution_count": 44,
      "outputs": [
        {
          "output_type": "stream",
          "name": "stdout",
          "text": [
            "Classification Report (Test Data):\n",
            "\n",
            "              precision    recall  f1-score   support\n",
            "\n",
            "           0    0.88384   0.89480   0.88928      4192\n",
            "           1    0.85329   0.83878   0.84598      3058\n",
            "\n",
            "    accuracy                        0.87117      7250\n",
            "   macro avg    0.86856   0.86679   0.86763      7250\n",
            "weighted avg    0.87095   0.87117   0.87102      7250\n",
            "\n"
          ]
        }
      ],
      "source": [
        "# < ENTER YOUR CODE HERE >\n",
        "report = classification_report(y_test, y_test_pred, digits=5)\n",
        "print(\"Classification Report (Test Data):\\n\")\n",
        "print(report)"
      ],
      "metadata": {
        "id": "JwE39g4NOwK5",
        "colab": {
          "base_uri": "https://localhost:8080/"
        },
        "outputId": "db4dd101-2ffc-43ce-d0ca-d61a7174804b"
      }
    },
    {
      "cell_type": "markdown",
      "source": [
        "# AdaBoost Classifier"
      ],
      "metadata": {
        "collapsed": false,
        "id": "3R2nbMJpOwK5"
      }
    },
    {
      "cell_type": "markdown",
      "source": [
        "Работает похожим на градиентный бустинг образом, только последующие модели не пытаются исправить ошибку предыдущих: сначала первый объект обучается на всем датасете, а следующий на основе опыта предыдущего обновляет свои веса так, чтобы исправлять ошибочные предсказания.\n",
        "\n",
        "На основе <code>sklearn.ensemble.AdaBoostClassifier</code>, используя <code>DecisionTreeClassifier</code> обучите модель с параметрами, указанными в вашем индивидуальном задании на тренировочных данных."
      ],
      "metadata": {
        "collapsed": false,
        "id": "pJHU89IuOwK5"
      }
    },
    {
      "cell_type": "code",
      "execution_count": 46,
      "outputs": [
        {
          "output_type": "stream",
          "name": "stderr",
          "text": [
            "/usr/local/lib/python3.10/dist-packages/sklearn/ensemble/_weight_boosting.py:527: FutureWarning: The SAMME.R algorithm (the default) is deprecated and will be removed in 1.6. Use the SAMME algorithm to circumvent this warning.\n",
            "  warnings.warn(\n"
          ]
        }
      ],
      "source": [
        "# < ENTER YOUR CODE HERE >\n",
        "from sklearn.ensemble import AdaBoostClassifier\n",
        "\n",
        "ada = AdaBoostClassifier(\n",
        "    DecisionTreeClassifier(max_depth=3, class_weight='balanced'),\n",
        "    n_estimators=300,\n",
        "    learning_rate=0.5,\n",
        "    random_state=11\n",
        ")\n",
        "\n",
        "ada.fit(X_train, y_train)\n",
        "\n",
        "y_test_pred = ada.predict(X_test)"
      ],
      "metadata": {
        "id": "ohHflb2gOwK6",
        "colab": {
          "base_uri": "https://localhost:8080/"
        },
        "outputId": "525216ea-13b6-4836-eb04-cd5081e63400"
      }
    },
    {
      "cell_type": "markdown",
      "source": [
        "Вычислите точность модели на **тестовых данных**"
      ],
      "metadata": {
        "id": "6GpNu-JGRuch"
      }
    },
    {
      "cell_type": "code",
      "execution_count": 47,
      "outputs": [
        {
          "output_type": "stream",
          "name": "stdout",
          "text": [
            "Classification Report (Test Data):\n",
            "\n",
            "              precision    recall  f1-score   support\n",
            "\n",
            "           0    0.92773   0.90339   0.91540      4192\n",
            "           1    0.87216   0.90353   0.88757      3058\n",
            "\n",
            "    accuracy                        0.90345      7250\n",
            "   macro avg    0.89995   0.90346   0.90148      7250\n",
            "weighted avg    0.90429   0.90345   0.90366      7250\n",
            "\n"
          ]
        }
      ],
      "source": [
        "# < ENTER YOUR CODE HERE >\n",
        "report = classification_report(y_test, y_test_pred, digits=5)\n",
        "print(\"Classification Report (Test Data):\\n\")\n",
        "print(report)"
      ],
      "metadata": {
        "id": "SVKSXjJ_OwK6",
        "colab": {
          "base_uri": "https://localhost:8080/"
        },
        "outputId": "e3ee5715-2339-4b63-899f-5893d56ad4ed"
      }
    },
    {
      "cell_type": "markdown",
      "source": [
        "# Stacking Classifier"
      ],
      "metadata": {
        "collapsed": false,
        "id": "HO-fMJpWOwK7"
      }
    },
    {
      "cell_type": "markdown",
      "source": [
        "Обучает несколько объектов класса (несколько моделей) на всем наборе данных, а после — обучает отдельный классификатор на метданных — ответах, полученных обученными ранее моделями.\n",
        "\n",
        "Используйте объект <code>sklearn.ensemble.StackingClassifier</code>. Базовые алгоритмы и решающий, а также соответствующие параметры указанны в вашем индивидуальном задании. Обучите модель на тренировочных данных."
      ],
      "metadata": {
        "collapsed": false,
        "id": "jwt8PrAhOwK7"
      }
    },
    {
      "cell_type": "code",
      "execution_count": 48,
      "outputs": [],
      "source": [
        "# < ENTER YOUR CODE HERE >\n",
        "from sklearn.ensemble import StackingClassifier\n",
        "\n",
        "from sklearn.ensemble import RandomForestClassifier\n",
        "from sklearn.svm import SVC\n",
        "from sklearn.linear_model import LogisticRegression\n",
        "from sklearn.metrics import classification_report\n",
        "\n",
        "estimators = [\n",
        "    ('rf', RandomForestClassifier(random_state=11)),\n",
        "    ('svc', SVC(random_state=11, probability=True))  # probability=True для совместимости\n",
        "]\n",
        "\n",
        "stacking_clf = StackingClassifier(\n",
        "    estimators=estimators,\n",
        "    final_estimator=LogisticRegression(random_state=11),\n",
        "    cv=3\n",
        ")\n",
        "\n",
        "stacking_clf.fit(X_train, y_train)\n",
        "\n",
        "y_test_pred = stacking_clf.predict(X_test)"
      ],
      "metadata": {
        "id": "rBblioH9OwK7"
      }
    },
    {
      "cell_type": "markdown",
      "source": [
        "Вычислите точность модели на **тестовых данных**"
      ],
      "metadata": {
        "id": "xRNxf9ZGTUMk"
      }
    },
    {
      "cell_type": "code",
      "execution_count": 49,
      "outputs": [
        {
          "output_type": "stream",
          "name": "stdout",
          "text": [
            "Classification Report (Test Data):\n",
            "\n",
            "              precision    recall  f1-score   support\n",
            "\n",
            "           0    0.91445   0.92056   0.91750      4192\n",
            "           1    0.89010   0.88195   0.88601      3058\n",
            "\n",
            "    accuracy                        0.90428      7250\n",
            "   macro avg    0.90228   0.90126   0.90175      7250\n",
            "weighted avg    0.90418   0.90428   0.90422      7250\n",
            "\n"
          ]
        }
      ],
      "source": [
        "# < ENTER YOUR CODE HERE >\n",
        "report = classification_report(y_test, y_test_pred, digits=5)\n",
        "print(\"Classification Report (Test Data):\\n\")\n",
        "print(report)"
      ],
      "metadata": {
        "id": "jUQ8y62VOwK8",
        "colab": {
          "base_uri": "https://localhost:8080/"
        },
        "outputId": "45f55ae9-cd12-4fe5-c684-847f5294a32e"
      }
    }
  ],
  "metadata": {
    "kernelspec": {
      "display_name": "Python 3",
      "name": "python3"
    },
    "language_info": {
      "codemirror_mode": {
        "name": "ipython",
        "version": 2
      },
      "file_extension": ".py",
      "mimetype": "text/x-python",
      "name": "python",
      "nbconvert_exporter": "python",
      "pygments_lexer": "ipython2",
      "version": "2.7.6"
    },
    "colab": {
      "provenance": [],
      "include_colab_link": true
    }
  },
  "nbformat": 4,
  "nbformat_minor": 0
}